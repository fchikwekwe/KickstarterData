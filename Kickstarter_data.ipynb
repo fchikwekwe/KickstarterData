{
 "cells": [
  {
   "cell_type": "code",
   "execution_count": null,
   "metadata": {},
   "outputs": [],
   "source": [
    "csv_2016 = glob.glob(os.path.join('./SA Feedback Surveys_FINAL/2016/', \"*.csv\"))\n",
    "read_all_csvs = (pd.read_csv(f) for f in csv_2016)\n",
    "data_2016 = pd.concat(read_all_csvs, ignore_index = True, sort = True)\n"
   ]
  }
 ],
 "metadata": {
  "kernelspec": {
   "display_name": "Python 3",
   "language": "python",
   "name": "python3"
  },
  "language_info": {
   "codemirror_mode": {
    "name": "ipython",
    "version": 3
   },
   "file_extension": ".py",
   "mimetype": "text/x-python",
   "name": "python",
   "nbconvert_exporter": "python",
   "pygments_lexer": "ipython3",
   "version": "3.7.1"
  }
 },
 "nbformat": 4,
 "nbformat_minor": 2
}
